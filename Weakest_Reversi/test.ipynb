{
 "cells": [
  {
   "cell_type": "code",
   "execution_count": 6,
   "metadata": {
    "collapsed": true
   },
   "outputs": [
    {
     "name": "stdout",
     "output_type": "stream",
     "text": [
      " 0  .  .  .  .  .  .  .  . \n",
      " 1  .  .  .  .  x  .  .  . \n",
      " 2  .  .  .  x  x  x  x  x \n",
      " 3  x  x  x  x  x  o  o  . \n",
      " 4  x  x  x  o  x  x  o  o \n",
      " 5  x  x  x  x  x  x  o  o \n",
      " 6  x  x  o  o  x  o  x  o \n",
      " 7  x  x  x  o  o  x  x  x \n",
      "    0  1  2  3  4  5  6  7\n"
     ]
    }
   ],
   "source": [
    "import numpy as np\n",
    "\n",
    "def log_to_list():\n",
    "    dir = \"chess_log.txt\"\n",
    "    with open(dir, \"r\") as f:\n",
    "        data = f.read()\n",
    "    return np.array(eval(data))\n",
    "\n",
    "board = log_to_list()[40]\n",
    "print_chessboard(board)"
   ]
  },
  {
   "cell_type": "code",
   "execution_count": null,
   "outputs": [],
   "source": [],
   "metadata": {
    "collapsed": false
   }
  },
  {
   "cell_type": "code",
   "execution_count": 5,
   "outputs": [
    {
     "name": "stdout",
     "output_type": "stream",
     "text": [
      "(0, 3)\n",
      " 0  .  .  .  o  .  .  .  . \n",
      " 1  .  .  .  .  o  .  .  . \n",
      " 2  .  .  .  x  x  o  x  x \n",
      " 3  x  x  x  x  x  o  o  . \n",
      " 4  x  x  x  o  x  x  o  o \n",
      " 5  x  x  x  x  x  x  o  o \n",
      " 6  x  x  o  o  x  o  x  o \n",
      " 7  x  x  x  o  o  x  x  x \n",
      "    0  1  2  3  4  5  6  7\n",
      "(0, 4)\n",
      " 0  .  .  .  .  o  .  .  . \n",
      " 1  .  .  .  .  o  .  .  . \n",
      " 2  .  .  .  x  o  x  x  x \n",
      " 3  x  x  x  x  o  o  o  . \n",
      " 4  x  x  x  o  o  x  o  o \n",
      " 5  x  x  x  x  o  x  o  o \n",
      " 6  x  x  o  o  o  o  x  o \n",
      " 7  x  x  x  o  o  x  x  x \n",
      "    0  1  2  3  4  5  6  7\n",
      "(1, 2)\n",
      " 0  .  .  .  .  .  .  .  . \n",
      " 1  .  .  o  .  x  .  .  . \n",
      " 2  .  .  .  o  x  x  x  x \n",
      " 3  x  x  x  x  o  o  o  . \n",
      " 4  x  x  x  o  x  o  o  o \n",
      " 5  x  x  x  x  x  x  o  o \n",
      " 6  x  x  o  o  x  o  x  o \n",
      " 7  x  x  x  o  o  x  x  x \n",
      "    0  1  2  3  4  5  6  7\n",
      "(1, 3)\n",
      " 0  .  .  .  .  .  .  .  . \n",
      " 1  .  .  .  o  x  .  .  . \n",
      " 2  .  .  .  o  o  x  x  x \n",
      " 3  x  x  x  o  x  o  o  . \n",
      " 4  x  x  x  o  x  x  o  o \n",
      " 5  x  x  x  x  x  x  o  o \n",
      " 6  x  x  o  o  x  o  x  o \n",
      " 7  x  x  x  o  o  x  x  x \n",
      "    0  1  2  3  4  5  6  7\n",
      "(1, 5)\n",
      " 0  .  .  .  .  .  .  .  . \n",
      " 1  .  .  .  .  x  o  .  . \n",
      " 2  .  .  .  x  x  o  x  x \n",
      " 3  x  x  x  x  x  o  o  . \n",
      " 4  x  x  x  o  x  x  o  o \n",
      " 5  x  x  x  x  x  x  o  o \n",
      " 6  x  x  o  o  x  o  x  o \n",
      " 7  x  x  x  o  o  x  x  x \n",
      "    0  1  2  3  4  5  6  7\n",
      "(1, 6)\n",
      " 0  .  .  .  .  .  .  .  . \n",
      " 1  .  .  .  .  x  .  o  . \n",
      " 2  .  .  .  x  x  o  o  x \n",
      " 3  x  x  x  x  o  o  o  . \n",
      " 4  x  x  x  o  x  x  o  o \n",
      " 5  x  x  x  x  x  x  o  o \n",
      " 6  x  x  o  o  x  o  x  o \n",
      " 7  x  x  x  o  o  x  x  x \n",
      "    0  1  2  3  4  5  6  7\n",
      "(1, 7)\n",
      " 0  .  .  .  .  .  .  .  . \n",
      " 1  .  .  .  .  x  .  .  o \n",
      " 2  .  .  .  x  x  x  o  x \n",
      " 3  x  x  x  x  x  o  o  . \n",
      " 4  x  x  x  o  x  x  o  o \n",
      " 5  x  x  x  x  x  x  o  o \n",
      " 6  x  x  o  o  x  o  x  o \n",
      " 7  x  x  x  o  o  x  x  x \n",
      "    0  1  2  3  4  5  6  7\n",
      "(2, 1)\n",
      " 0  .  .  .  .  .  .  .  . \n",
      " 1  .  .  .  .  x  .  .  . \n",
      " 2  .  o  .  x  x  x  x  x \n",
      " 3  x  x  o  x  x  o  o  . \n",
      " 4  x  x  x  o  x  x  o  o \n",
      " 5  x  x  x  x  x  x  o  o \n",
      " 6  x  x  o  o  x  o  x  o \n",
      " 7  x  x  x  o  o  x  x  x \n",
      "    0  1  2  3  4  5  6  7\n",
      "(2, 2)\n",
      " 0  .  .  .  .  .  .  .  . \n",
      " 1  .  .  .  .  x  .  .  . \n",
      " 2  .  .  o  x  x  x  x  x \n",
      " 3  x  x  o  x  x  o  o  . \n",
      " 4  x  x  o  o  x  x  o  o \n",
      " 5  x  x  o  x  x  x  o  o \n",
      " 6  x  x  o  o  x  o  x  o \n",
      " 7  x  x  x  o  o  x  x  x \n",
      "    0  1  2  3  4  5  6  7\n"
     ]
    }
   ],
   "source": [
    "from project import AI\n",
    "from test import print_chessboard\n",
    "ai = AI(8, 1, 5)\n",
    "actions=ai.get_action(board,1)\n",
    "for action in actions:\n",
    "    print(action)\n",
    "    print_chessboard(ai.get_result(board,action,1))"
   ],
   "metadata": {
    "collapsed": false
   }
  },
  {
   "cell_type": "code",
   "execution_count": null,
   "outputs": [],
   "source": [],
   "metadata": {
    "collapsed": false
   }
  }
 ],
 "metadata": {
  "kernelspec": {
   "display_name": "Python 3",
   "language": "python",
   "name": "python3"
  },
  "language_info": {
   "codemirror_mode": {
    "name": "ipython",
    "version": 2
   },
   "file_extension": ".py",
   "mimetype": "text/x-python",
   "name": "python",
   "nbconvert_exporter": "python",
   "pygments_lexer": "ipython2",
   "version": "2.7.6"
  }
 },
 "nbformat": 4,
 "nbformat_minor": 0
}
